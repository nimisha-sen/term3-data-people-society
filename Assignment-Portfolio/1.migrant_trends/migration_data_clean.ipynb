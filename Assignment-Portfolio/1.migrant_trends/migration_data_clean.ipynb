{
 "cells": [
  {
   "cell_type": "code",
   "execution_count": 2,
   "metadata": {},
   "outputs": [
    {
     "name": "stdout",
     "output_type": "stream",
     "text": [
      "| source    | target   | Year   | v    |\n",
      "|:----------|:---------|:-------|:-----|\n",
      "| Australia | Germany  | 2003   | 1541 |\n",
      "| Australia | Germany  | 2004   | 1498 |\n",
      "| Australia | Germany  | 2005   | 1485 |\n",
      "| Australia | Germany  | 2006   | 1706 |\n",
      "| Australia | Germany  | 2007   | 1830 |\n",
      "<class 'pandas.core.frame.DataFrame'>\n",
      "RangeIndex: 1764 entries, 0 to 1763\n",
      "Data columns (total 4 columns):\n",
      " #   Column  Non-Null Count  Dtype \n",
      "---  ------  --------------  ----- \n",
      " 0   source  1764 non-null   object\n",
      " 1   target  1764 non-null   object\n",
      " 2   Year    1764 non-null   int64 \n",
      " 3   v       1764 non-null   int64 \n",
      "dtypes: int64(2), object(2)\n",
      "memory usage: 55.3+ KB\n",
      "None\n"
     ]
    }
   ],
   "source": [
    "import pandas as pd\n",
    "\n",
    "pd.set_option('display.max_rows', None)\n",
    "pd.set_option('display.max_columns', None)\n",
    "\n",
    "# Read the CSV file into a DataFrame\n",
    "df = pd.read_csv('migration2.csv')\n",
    "\n",
    "# Display the first 5 rows\n",
    "print(df.head().to_markdown(index=False, numalign=\"left\", stralign=\"left\"))\n",
    "\n",
    "# Print the column names and their data types\n",
    "print(df.info())"
   ]
  },
  {
   "cell_type": "code",
   "execution_count": 3,
   "metadata": {},
   "outputs": [
    {
     "name": "stdout",
     "output_type": "stream",
     "text": [
      "| source                        | target   | Total Migrants   |\n",
      "|:------------------------------|:---------|:-----------------|\n",
      "| China                         | Japan    | 1201329          |\n",
      "| China, incl. Hong Kong, Macau | Japan    | 704361           |\n",
      "| Italy                         | Germany  | 561897           |\n",
      "| United States                 | Japan    | 356219           |\n",
      "| United States                 | Germany  | 306397           |\n"
     ]
    }
   ],
   "source": [
    "# Calculate the sum of `v` column for each `source` and `target` pair\n",
    "df_out = df.groupby(['source', 'target'])['v'].sum().reset_index()\n",
    "\n",
    "# Rename the `v` column to `Total Migrants`\n",
    "df_out = df_out.rename(columns={'v': 'Total Migrants'})\n",
    "\n",
    "# Sort the values by `Total Migrants` in descending order\n",
    "df_out = df_out.sort_values(by='Total Migrants', ascending=False)\n",
    "\n",
    "# Display the first 5 rows\n",
    "print(df_out.head().to_markdown(index=False, numalign=\"left\", stralign=\"left\"))"
   ]
  },
  {
   "cell_type": "code",
   "execution_count": 4,
   "metadata": {},
   "outputs": [],
   "source": [
    "# Save the processed DataFrame to a new CSV file\n",
    "df_out.to_csv('total_migrants.csv', index=False)"
   ]
  },
  {
   "cell_type": "code",
   "execution_count": 1,
   "metadata": {},
   "outputs": [
    {
     "name": "stdout",
     "output_type": "stream",
     "text": [
      "| source         | target         | Total Migrants   |\n",
      "|:---------------|:---------------|:-----------------|\n",
      "| China          | Japan          | 2000832          |\n",
      "| Italy          | Germany        | 561897           |\n",
      "| China          | Germany        | 452142           |\n",
      "| United States  | Japan          | 356219           |\n",
      "| United States  | Germany        | 306397           |\n",
      "| China          | Spain          | 260779           |\n",
      "| China          | United Kingdom | 245000           |\n",
      "| United Kingdom | Spain          | 226506           |\n",
      "| France         | Germany        | 221354           |\n",
      "| Russia         | Germany        | 218891           |\n",
      "| India          | Germany        | 217355           |\n",
      "| China          | New Zealand    | 203104           |\n",
      "| Australia      | United Kingdom | 193000           |\n",
      "| India          | United Kingdom | 178000           |\n",
      "| United Kingdom | Germany        | 159026           |\n",
      "| Brazil         | Spain          | 148612           |\n",
      "| Italy          | Spain          | 147868           |\n",
      "| Brazil         | Japan          | 138976           |\n",
      "| Germany        | Netherlands    | 132682           |\n",
      "| United States  | United Kingdom | 125000           |\n",
      "| United Kingdom | United Kingdom | 125000           |\n",
      "| Germany        | Spain          | 121739           |\n",
      "| Japan          | Germany        | 109389           |\n",
      "| France         | Spain          | 107862           |\n",
      "| China          | Netherlands    | 104528           |\n",
      "| United Kingdom | New Zealand    | 103294           |\n",
      "| United Kingdom | Japan          | 99912            |\n",
      "| Brazil         | Germany        | 93772            |\n",
      "| United Kingdom | Netherlands    | 85104            |\n",
      "| Australia      | New Zealand    | 82719            |\n",
      "| France         | United Kingdom | 77000            |\n",
      "| Germany        | Japan          | 75702            |\n",
      "| Germany        | United Kingdom | 74000            |\n",
      "| United Kingdom | Australia      | 73043            |\n",
      "| Russia         | Japan          | 66240            |\n",
      "| China          | Australia      | 62815            |\n",
      "| United States  | Netherlands    | 61466            |\n",
      "| Russia         | Spain          | 60374            |\n",
      "| France         | Japan          | 58730            |\n",
      "| United States  | Spain          | 56106            |\n",
      "| India          | New Zealand    | 54718            |\n",
      "| Italy          | Netherlands    | 54318            |\n",
      "| France         | Netherlands    | 52112            |\n",
      "| India          | Japan          | 51850            |\n",
      "| Italy          | United Kingdom | 50000            |\n",
      "| India          | Netherlands    | 49965            |\n",
      "| United States  | New Zealand    | 47943            |\n",
      "| Canada         | Germany        | 47443            |\n",
      "| China          | Italy          | 46809            |\n",
      "| Australia      | Japan          | 45268            |\n",
      "| India          | Spain          | 40308            |\n",
      "| Canada         | Japan          | 35860            |\n",
      "| Japan          | United Kingdom | 35000            |\n",
      "| Australia      | Germany        | 34344            |\n",
      "| Italy          | Japan          | 33214            |\n",
      "| Canada         | United Kingdom | 31000            |\n",
      "| Japan          | New Zealand    | 27247            |\n",
      "| Japan          | Netherlands    | 23013            |\n",
      "| Germany        | Italy          | 21121            |\n",
      "| India          | Italy          | 20601            |\n",
      "| India          | Australia      | 20481            |\n",
      "| France         | New Zealand    | 20137            |\n",
      "| Germany        | New Zealand    | 18988            |\n",
      "| Australia      | Netherlands    | 14812            |\n",
      "| Canada         | Netherlands    | 14453            |\n",
      "| Canada         | New Zealand    | 14285            |\n",
      "| Brazil         | United Kingdom | 14000            |\n",
      "| France         | Italy          | 13794            |\n",
      "| Brazil         | Netherlands    | 13745            |\n",
      "| Brazil         | Italy          | 12932            |\n",
      "| United States  | Australia      | 12152            |\n",
      "| United Kingdom | Italy          | 11104            |\n",
      "| Russia         | Netherlands    | 10648            |\n",
      "| Brazil         | New Zealand    | 10010            |\n",
      "| United States  | Italy          | 8340             |\n",
      "| Japan          | Spain          | 7911             |\n",
      "| Canada         | Australia      | 6028             |\n",
      "| Italy          | New Zealand    | 5977             |\n",
      "| Canada         | Spain          | 5359             |\n",
      "| Japan          | Italy          | 5055             |\n",
      "| Germany        | Australia      | 4910             |\n",
      "| Russia         | Italy          | 4562             |\n",
      "| Italy          | Australia      | 3895             |\n",
      "| Russia         | New Zealand    | 3707             |\n",
      "| France         | Australia      | 3573             |\n",
      "| Australia      | Spain          | 2787             |\n",
      "| Russia         | Australia      | 1980             |\n",
      "| Japan          | Australia      | 1609             |\n",
      "| Brazil         | Australia      | 1592             |\n",
      "| Australia      | Italy          | 1204             |\n",
      "| Canada         | Italy          | 1100             |\n",
      "| Japan          | Japan          | 0                |\n",
      "| Italy          | Italy          | 0                |\n"
     ]
    },
    {
     "name": "stderr",
     "output_type": "stream",
     "text": [
      "/var/folders/53/f_mlkwxj7xd3c9929h9ychkw0000gq/T/ipykernel_17766/1179220113.py:1: DeprecationWarning: \n",
      "Pyarrow will become a required dependency of pandas in the next major release of pandas (pandas 3.0),\n",
      "(to allow more performant data types, such as the Arrow string type, and better interoperability with other libraries)\n",
      "but was not found to be installed on your system.\n",
      "If this would cause problems for you,\n",
      "please provide us feedback at https://github.com/pandas-dev/pandas/issues/54466\n",
      "        \n",
      "  import pandas as pd\n"
     ]
    }
   ],
   "source": [
    "import pandas as pd\n",
    "pd.set_option('display.max_rows', None)\n",
    "pd.set_option('display.max_columns', None)\n",
    "\n",
    "# Read the CSV file into a DataFrame\n",
    "df_total_migrants = pd.read_csv('total_migrants.csv')\n",
    "\n",
    "# Replace the values 'China, incl. Hong Kong, Macau' and 'Chinese Taipei' in the `source` column with 'China'\n",
    "df_total_migrants['source'] = df_total_migrants['source'].replace(['China, incl. Hong Kong, Macau', 'Chinese Taipei'], 'China')\n",
    "\n",
    "# Aggregate the data on `source` and `target` columns by summing the `Total Migrants`\n",
    "df_agg = df_total_migrants.groupby(['source', 'target'])['Total Migrants'].sum().reset_index()\n",
    "\n",
    "# Sort the values by `Total Migrants` in descending order\n",
    "df_agg = df_agg.sort_values(by='Total Migrants', ascending=False)\n",
    "\n",
    "# Display the updated DataFrame\n",
    "print(df_agg.to_markdown(index=False, numalign=\"left\", stralign=\"left\"))"
   ]
  },
  {
   "cell_type": "code",
   "execution_count": 2,
   "metadata": {},
   "outputs": [],
   "source": [
    "# Save the aggregated DataFrame to a new CSV file\n",
    "df_agg.to_csv('total_migrants_agg.csv', index=False)\n"
   ]
  }
 ],
 "metadata": {
  "kernelspec": {
   "display_name": "base",
   "language": "python",
   "name": "python3"
  },
  "language_info": {
   "codemirror_mode": {
    "name": "ipython",
    "version": 3
   },
   "file_extension": ".py",
   "mimetype": "text/x-python",
   "name": "python",
   "nbconvert_exporter": "python",
   "pygments_lexer": "ipython3",
   "version": "3.11.4"
  }
 },
 "nbformat": 4,
 "nbformat_minor": 2
}
